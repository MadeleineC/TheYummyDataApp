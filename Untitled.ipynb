{
 "cells": [
  {
   "cell_type": "code",
   "execution_count": 1,
   "metadata": {
    "collapsed": true
   },
   "outputs": [],
   "source": [
    "import requests\n",
    "import json\n",
    "import pandas as pd"
   ]
  },
  {
   "cell_type": "code",
   "execution_count": 5,
   "metadata": {},
   "outputs": [
    {
     "name": "stdout",
     "output_type": "stream",
     "text": [
      "Failed:\n",
      "'version https://git-lfs.github.com/spec/v1\\noid sha256:b65f28af9d14afca23cf263f077f9ec3bf3178b714a9c108f2e45fd42bd0c4f0\\nsize 158480250\\n'\n"
     ]
    }
   ],
   "source": [
    "# with open('zips.json') as data_file:    \n",
    "#    data = json.load(data_file)\n",
    "\n",
    "# data\n",
    "   \n",
    "   \n",
    "\n",
    "   \n",
    "with open('zips.json') as data_file:\n",
    "   data_string = data_file.read()    \n",
    "   try:\n",
    "       data = json.loads(data_string)\n",
    "       print('Success!')\n",
    "   except ValueError:\n",
    "       print('Failed:')\n",
    "       print(repr(data_string))    "
   ]
  },
  {
   "cell_type": "code",
   "execution_count": null,
   "metadata": {
    "collapsed": true
   },
   "outputs": [],
   "source": []
  }
 ],
 "metadata": {
  "kernelspec": {
   "display_name": "Python [conda env:PythonData]",
   "language": "python",
   "name": "conda-env-PythonData-py"
  },
  "language_info": {
   "codemirror_mode": {
    "name": "ipython",
    "version": 3
   },
   "file_extension": ".py",
   "mimetype": "text/x-python",
   "name": "python",
   "nbconvert_exporter": "python",
   "pygments_lexer": "ipython3",
   "version": "3.6.3"
  }
 },
 "nbformat": 4,
 "nbformat_minor": 2
}
