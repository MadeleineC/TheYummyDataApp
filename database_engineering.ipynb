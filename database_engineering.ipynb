{
 "cells": [
  {
   "cell_type": "code",
   "execution_count": 1,
   "metadata": {
    "collapsed": true
   },
   "outputs": [],
   "source": [
    "import pandas as pd\n",
    "import sqlalchemy\n",
    "from sqlalchemy import create_engine, MetaData\n",
    "from sqlalchemy.ext.declarative import declarative_base\n",
    "from sqlalchemy import Column, Integer, String, Numeric, Text, Float, ForeignKey\n",
    "from sqlalchemy.orm import sessionmaker, relationship"
   ]
  },
  {
   "cell_type": "code",
   "execution_count": 2,
   "metadata": {
    "collapsed": true
   },
   "outputs": [],
   "source": [
    "engine = create_engine(\"sqlite:///yummydata.sqlite\")"
   ]
  },
  {
   "cell_type": "code",
   "execution_count": 3,
   "metadata": {
    "collapsed": true
   },
   "outputs": [],
   "source": [
    "Base = declarative_base()"
   ]
  },
  {
   "cell_type": "code",
   "execution_count": 4,
   "metadata": {
    "collapsed": true
   },
   "outputs": [],
   "source": [
    "# Create ORM Class for Zip Code Demographic Data\n",
    "class ZipDemo(Base):\n",
    "    \n",
    "    __tablename__ = 'zip_demographics'\n",
    "\n",
    "    id = Column(Integer, primary_key=True)\n",
    "    Zip = Column(Integer)\n",
    "    Population = Column(Integer)\n",
    "    Density = Column(Float)\n",
    "    AverageIncome = Column(Float)\n",
    "    City = Column(Text)\n",
    "    State = Column(Text)\n",
    "    ZipLatitude = Column(Float)\n",
    "    ZipLongitude = Column(Float)\n",
    "    \n",
    "#     def __repr__(self):\n",
    "#         return f\"id={self.id}, name={self.station}\""
   ]
  },
  {
   "cell_type": "code",
   "execution_count": 5,
   "metadata": {},
   "outputs": [],
   "source": [
    "# NOTE - CHANGED COLUMN NAMES WITH PARENTHESES (NEED TO DO THIS ON THE API CODE)\n",
    "class RestaurantSearch(Base):\n",
    "    \n",
    "    __tablename__ = 'restaurant_search'\n",
    "\n",
    "    id = Column(Integer, primary_key=True)\n",
    "    Address = Column(Text)\n",
    "    Google_ID = Column(Text)\n",
    "    Latitude = Column(Float)\n",
    "    Longitude = Column(Float)\n",
    "    Name = Column(Text)\n",
    "    Price_Level = Column(Integer)\n",
    "    Rating = Column(Float)\n",
    "    Zip = Column(Integer)"
   ]
  },
  {
   "cell_type": "code",
   "execution_count": 6,
   "metadata": {},
   "outputs": [],
   "source": [
    "class Input(Base):\n",
    "    \n",
    "    __tablename__ = 'user_input'\n",
    "\n",
    "    id = Column(Integer, primary_key=True)\n",
    "    City = Column(Text)\n",
    "    State = Column(Text)\n",
    "    Cuisine = Column(Text)"
   ]
  },
  {
   "cell_type": "code",
   "execution_count": 7,
   "metadata": {
    "collapsed": true
   },
   "outputs": [],
   "source": [
    "Base.metadata.create_all(engine)"
   ]
  },
  {
   "cell_type": "code",
   "execution_count": 8,
   "metadata": {
    "collapsed": true
   },
   "outputs": [],
   "source": [
    "# Create a Functin to Populate Tables\n",
    "def populate_table(engine, table, csvfile):\n",
    "    # connect to the database\n",
    "    conn = engine.connect()\n",
    "    \n",
    "    # Load the CSV file into a pandas dataframe \n",
    "    df_of_data_to_insert = pd.read_csv(csvfile)\n",
    "    \n",
    "    # Orient='records' creates a list of data to write\n",
    "    data = df_of_data_to_insert.to_dict(orient='records')\n",
    "\n",
    "    # Optional: Delete all rows in the table \n",
    "    conn.execute(table.delete())\n",
    "\n",
    "    # Insert the dataframe into the database in one bulk insert\n",
    "    conn.execute(table.insert(), data)"
   ]
  },
  {
   "cell_type": "code",
   "execution_count": 9,
   "metadata": {
    "collapsed": true
   },
   "outputs": [],
   "source": [
    "# Populate Tables\n",
    "populate_table(engine, ZipDemo.__table__, 'zip_demographicchineseATX.csv')\n",
    "populate_table(engine, RestaurantSearch.__table__, 'chineseATX.csv')"
   ]
  },
  {
   "cell_type": "code",
   "execution_count": null,
   "metadata": {
    "collapsed": true
   },
   "outputs": [],
   "source": []
  },
  {
   "cell_type": "code",
   "execution_count": null,
   "metadata": {
    "collapsed": true
   },
   "outputs": [],
   "source": []
  },
  {
   "cell_type": "code",
   "execution_count": null,
   "metadata": {
    "collapsed": true
   },
   "outputs": [],
   "source": []
  }
 ],
 "metadata": {
  "kernelspec": {
   "display_name": "Python [conda env:PythonData]",
   "language": "python",
   "name": "conda-env-PythonData-py"
  },
  "language_info": {
   "codemirror_mode": {
    "name": "ipython",
    "version": 3
   },
   "file_extension": ".py",
   "mimetype": "text/x-python",
   "name": "python",
   "nbconvert_exporter": "python",
   "pygments_lexer": "ipython3",
   "version": "3.6.3"
  }
 },
 "nbformat": 4,
 "nbformat_minor": 2
}
