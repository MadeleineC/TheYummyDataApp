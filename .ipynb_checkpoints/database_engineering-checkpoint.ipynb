{
 "cells": [
  {
   "cell_type": "code",
   "execution_count": 24,
   "metadata": {
    "collapsed": true
   },
   "outputs": [],
   "source": [
    "import pandas as pd\n",
    "import sqlalchemy\n",
    "from sqlalchemy import create_engine, MetaData\n",
    "from sqlalchemy.ext.declarative import declarative_base\n",
    "from sqlalchemy import Column, Integer, String, Numeric, Text, Float, ForeignKey\n",
    "from sqlalchemy.orm import sessionmaker, relationship"
   ]
  },
  {
   "cell_type": "code",
   "execution_count": 26,
   "metadata": {},
   "outputs": [
    {
     "data": {
      "text/html": [
       "<div>\n",
       "<style scoped>\n",
       "    .dataframe tbody tr th:only-of-type {\n",
       "        vertical-align: middle;\n",
       "    }\n",
       "\n",
       "    .dataframe tbody tr th {\n",
       "        vertical-align: top;\n",
       "    }\n",
       "\n",
       "    .dataframe thead th {\n",
       "        text-align: right;\n",
       "    }\n",
       "</style>\n",
       "<table border=\"1\" class=\"dataframe\">\n",
       "  <thead>\n",
       "    <tr style=\"text-align: right;\">\n",
       "      <th></th>\n",
       "      <th>Address</th>\n",
       "      <th>Google_ID</th>\n",
       "      <th>Latitude</th>\n",
       "      <th>Longitude</th>\n",
       "      <th>Name</th>\n",
       "      <th>Price_Level</th>\n",
       "      <th>Rating</th>\n",
       "      <th>Zip</th>\n",
       "    </tr>\n",
       "  </thead>\n",
       "  <tbody>\n",
       "    <tr>\n",
       "      <th>0</th>\n",
       "      <td>1931 E Ben White Blvd #300, Austin, TX 78741, USA</td>\n",
       "      <td>b9eb17dab1edbc2b1a046a224789b1330e44554c</td>\n",
       "      <td>30.215372</td>\n",
       "      <td>-97.744803</td>\n",
       "      <td>Asia</td>\n",
       "      <td>2.0</td>\n",
       "      <td>3.8</td>\n",
       "      <td>78741</td>\n",
       "    </tr>\n",
       "    <tr>\n",
       "      <th>1</th>\n",
       "      <td>2712 Bee Caves Rd, Austin, TX 78746, USA</td>\n",
       "      <td>bdefc39e9e72060c0c3f8552220f8ea2ca60d20b</td>\n",
       "      <td>30.271814</td>\n",
       "      <td>-97.786538</td>\n",
       "      <td>Chinatown</td>\n",
       "      <td>2.0</td>\n",
       "      <td>4.1</td>\n",
       "      <td>78746</td>\n",
       "    </tr>\n",
       "    <tr>\n",
       "      <th>2</th>\n",
       "      <td>212 E Oltorf St, Austin, TX 78704, USA</td>\n",
       "      <td>b75b51402eec73943491ad3847b6b1c46d7a0ad8</td>\n",
       "      <td>30.238337</td>\n",
       "      <td>-97.751720</td>\n",
       "      <td>New Mandarin</td>\n",
       "      <td>2.0</td>\n",
       "      <td>3.5</td>\n",
       "      <td>78704</td>\n",
       "    </tr>\n",
       "    <tr>\n",
       "      <th>3</th>\n",
       "      <td>3601, 6605 Airport Blvd, Austin, TX 78752, Uni...</td>\n",
       "      <td>aeca550acd577ada947d15388018945bbcd9b492</td>\n",
       "      <td>30.330697</td>\n",
       "      <td>-97.715309</td>\n",
       "      <td>China Palace</td>\n",
       "      <td>2.0</td>\n",
       "      <td>3.9</td>\n",
       "      <td>78752</td>\n",
       "    </tr>\n",
       "    <tr>\n",
       "      <th>4</th>\n",
       "      <td>625 W Ben White Blvd, Austin, TX 78704, USA</td>\n",
       "      <td>ec2339d24cecd5986b306474bb427557f034a055</td>\n",
       "      <td>30.225787</td>\n",
       "      <td>-97.771176</td>\n",
       "      <td>Bamboo Garden Chinese Restaurant</td>\n",
       "      <td>2.0</td>\n",
       "      <td>4.0</td>\n",
       "      <td>78704</td>\n",
       "    </tr>\n",
       "  </tbody>\n",
       "</table>\n",
       "</div>"
      ],
      "text/plain": [
       "                                             Address  \\\n",
       "0  1931 E Ben White Blvd #300, Austin, TX 78741, USA   \n",
       "1           2712 Bee Caves Rd, Austin, TX 78746, USA   \n",
       "2             212 E Oltorf St, Austin, TX 78704, USA   \n",
       "3  3601, 6605 Airport Blvd, Austin, TX 78752, Uni...   \n",
       "4        625 W Ben White Blvd, Austin, TX 78704, USA   \n",
       "\n",
       "                                  Google_ID   Latitude  Longitude  \\\n",
       "0  b9eb17dab1edbc2b1a046a224789b1330e44554c  30.215372 -97.744803   \n",
       "1  bdefc39e9e72060c0c3f8552220f8ea2ca60d20b  30.271814 -97.786538   \n",
       "2  b75b51402eec73943491ad3847b6b1c46d7a0ad8  30.238337 -97.751720   \n",
       "3  aeca550acd577ada947d15388018945bbcd9b492  30.330697 -97.715309   \n",
       "4  ec2339d24cecd5986b306474bb427557f034a055  30.225787 -97.771176   \n",
       "\n",
       "                               Name  Price_Level  Rating    Zip  \n",
       "0                              Asia          2.0     3.8  78741  \n",
       "1                         Chinatown          2.0     4.1  78746  \n",
       "2                      New Mandarin          2.0     3.5  78704  \n",
       "3                      China Palace          2.0     3.9  78752  \n",
       "4  Bamboo Garden Chinese Restaurant          2.0     4.0  78704  "
      ]
     },
     "execution_count": 26,
     "metadata": {},
     "output_type": "execute_result"
    }
   ],
   "source": [
    "# Change Column Names of API output to not include parentheses\n",
    "file = \"chineseATX.csv\"\n",
    "restaurants_df = pd.read_csv(file)\n",
    "restaurants_df = restaurants_df.rename(columns={\"ID(Google)\":\"Google_ID\", \"Price_Level(Google)\":\"Price_Level\", \"Rating(Google)\":\"Rating\"})\n",
    "restaurants_df.head()"
   ]
  },
  {
   "cell_type": "code",
   "execution_count": 29,
   "metadata": {
    "collapsed": true
   },
   "outputs": [],
   "source": [
    "# Output Cleaned CSV\n",
    "restaurants_df.to_csv(\"cleaned\"+file)"
   ]
  },
  {
   "cell_type": "code",
   "execution_count": 27,
   "metadata": {
    "collapsed": true
   },
   "outputs": [],
   "source": [
    "engine = create_engine(\"sqlite:///yummydata.sqlite\")"
   ]
  },
  {
   "cell_type": "code",
   "execution_count": 28,
   "metadata": {
    "collapsed": true
   },
   "outputs": [],
   "source": [
    "Base = declarative_base()"
   ]
  },
  {
   "cell_type": "code",
   "execution_count": 15,
   "metadata": {
    "collapsed": true
   },
   "outputs": [],
   "source": [
    "# Create ORM Class for Zip Code Demographic Data\n",
    "class ZipDemo(Base):\n",
    "    \n",
    "    __tablename__ = 'zip_demographics'\n",
    "\n",
    "    Zip = Column(Integer, primary_key=True)\n",
    "    Population = Column(Integer)\n",
    "    Density = Column(Float)\n",
    "    AverageIncome = Column(Float)\n",
    "    City = Column(Text)\n",
    "    State = Column(Text)\n",
    "    ZipLatitude = Column(Float)\n",
    "    ZipLongitude = Column(Float)\n",
    "    City_State = Column(Text, ForeignKey(\"user_input.City_State\"))\n",
    "    \n",
    "#     def __repr__(self):\n",
    "#         return f\"id={self.id}, name={self.station}\""
   ]
  },
  {
   "cell_type": "code",
   "execution_count": 16,
   "metadata": {},
   "outputs": [],
   "source": [
    "class RestaurantSearch(Base):\n",
    "    \n",
    "    __tablename__ = 'restaurant_search'\n",
    "\n",
    "    Address = Column(Text)\n",
    "    Google_ID = Column(Text, primary_key=True)\n",
    "    Latitude = Column(Float)\n",
    "    Longitude = Column(Float)\n",
    "    Name = Column(Text)\n",
    "    Price_Level = Column(Integer)\n",
    "    Rating = Column(Float)\n",
    "    Zip = Column(Integer, ForeignKey(\"zip_demographics.Zip\"))"
   ]
  },
  {
   "cell_type": "code",
   "execution_count": 17,
   "metadata": {},
   "outputs": [],
   "source": [
    "class Input(Base):\n",
    "    \n",
    "    __tablename__ = 'user_input'\n",
    "\n",
    "    id = Column(Integer, primary_key=True)\n",
    "    City = Column(Text)\n",
    "    State = Column(Text)\n",
    "    Cuisine = Column(Text)\n",
    "    City_State = Column(Text)"
   ]
  },
  {
   "cell_type": "code",
   "execution_count": 18,
   "metadata": {
    "collapsed": true
   },
   "outputs": [],
   "source": [
    "Base.metadata.create_all(engine)"
   ]
  },
  {
   "cell_type": "code",
   "execution_count": 19,
   "metadata": {
    "collapsed": true
   },
   "outputs": [],
   "source": [
    "# Create a Functin to Populate Tables\n",
    "def populate_table(engine, table, csvfile):\n",
    "    # connect to the database\n",
    "    conn = engine.connect()\n",
    "    \n",
    "    # Load the CSV file into a pandas dataframe \n",
    "    df_of_data_to_insert = pd.read_csv(csvfile)\n",
    "    \n",
    "    # Orient='records' creates a list of data to write\n",
    "    data = df_of_data_to_insert.to_dict(orient='records')\n",
    "\n",
    "    # Optional: Delete all rows in the table \n",
    "    conn.execute(table.delete())\n",
    "\n",
    "    # Insert the dataframe into the database in one bulk insert\n",
    "    conn.execute(table.insert(), data)"
   ]
  },
  {
   "cell_type": "code",
   "execution_count": 30,
   "metadata": {
    "collapsed": true
   },
   "outputs": [],
   "source": [
    "# Populate Tables\n",
    "populate_table(engine, ZipDemo.__table__, 'zip_demographicchineseATX.csv')\n",
    "populate_table(engine, RestaurantSearch.__table__, 'cleaned'+file)"
   ]
  },
  {
   "cell_type": "code",
   "execution_count": null,
   "metadata": {
    "collapsed": true
   },
   "outputs": [],
   "source": []
  },
  {
   "cell_type": "code",
   "execution_count": null,
   "metadata": {
    "collapsed": true
   },
   "outputs": [],
   "source": []
  },
  {
   "cell_type": "code",
   "execution_count": null,
   "metadata": {
    "collapsed": true
   },
   "outputs": [],
   "source": []
  }
 ],
 "metadata": {
  "kernelspec": {
   "display_name": "Python [conda env:PythonData]",
   "language": "python",
   "name": "conda-env-PythonData-py"
  },
  "language_info": {
   "codemirror_mode": {
    "name": "ipython",
    "version": 3
   },
   "file_extension": ".py",
   "mimetype": "text/x-python",
   "name": "python",
   "nbconvert_exporter": "python",
   "pygments_lexer": "ipython3",
   "version": "3.6.3"
  }
 },
 "nbformat": 4,
 "nbformat_minor": 2
}
