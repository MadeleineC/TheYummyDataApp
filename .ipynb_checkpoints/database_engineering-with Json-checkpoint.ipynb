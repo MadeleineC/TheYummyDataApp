{
 "cells": [
  {
   "cell_type": "code",
   "execution_count": 1,
   "metadata": {
    "collapsed": true
   },
   "outputs": [],
   "source": [
    "import pandas as pd\n",
    "import sqlalchemy\n",
    "from sqlalchemy import create_engine, MetaData\n",
    "from sqlalchemy.ext.declarative import declarative_base\n",
    "from sqlalchemy import Column, Integer, String, Numeric, Text, Float, ForeignKey\n",
    "from sqlalchemy.orm import sessionmaker, relationship\n",
    "import glob, os"
   ]
  },
  {
   "cell_type": "code",
   "execution_count": 2,
   "metadata": {},
   "outputs": [
    {
     "name": "stdout",
     "output_type": "stream",
     "text": [
      "['chinese_drop_duplicates_in_Austin_TX.csv', 'chinese_drop_duplicates_in_Des Moines_IA.csv', 'french_drop_duplicates_in_Austin_TX.csv', 'french_drop_duplicates_in_San Antonio_TX.csv', 'pizza_drop_duplicates_in_Seguin_TX.csv', 'pizza_drop_duplicates_in_Waco_TX.csv', 'restaurant_drop_duplicates_in_Agawam_MA.csv', 'restaurant_drop_duplicates_in_Austin_TX.csv', 'restaurant_drop_duplicates_in_San Antonio_TX.csv', 'sushi_drop_duplicates_in_Burlington_VT.csv', 'taco_drop_duplicates_in_Austin_TX.csv', 'taco_drop_duplicates_in_San Antonio_TX.csv']\n"
     ]
    }
   ],
   "source": [
    "# Get files from output_yummy to put into the database\n",
    "os.makedirs(\"cleaned_output\")\n",
    "file_list = []\n",
    "os.chdir(\"output_yummy\")\n",
    "for file in glob.glob(\"*.csv\"):\n",
    "    file_list.append(file)\n",
    "print(file_list)"
   ]
  },
  {
   "cell_type": "code",
   "execution_count": 3,
   "metadata": {
    "collapsed": true
   },
   "outputs": [],
   "source": [
    "# Change Column Names of API output to not include parentheses\n",
    "# file = \"chinese_drop_duplicates_in_Austin_TX.csv\"\n",
    "# os.chdir(\"..\")\n",
    "# os.chdir(\"TheYummyDataApp\")\n",
    "\n",
    " \n",
    "# os.chdir(\"output_yummy\")"
   ]
  },
  {
   "cell_type": "code",
   "execution_count": 4,
   "metadata": {},
   "outputs": [
    {
     "name": "stdout",
     "output_type": "stream",
     "text": [
      "                                             Address  \\\n",
      "0  1931 E Ben White Blvd #300, Austin, TX 78741, USA   \n",
      "1           2712 Bee Caves Rd, Austin, TX 78746, USA   \n",
      "2             212 E Oltorf St, Austin, TX 78704, USA   \n",
      "3  3601, 6605 Airport Blvd, Austin, TX 78752, Uni...   \n",
      "4        625 W Ben White Blvd, Austin, TX 78704, USA   \n",
      "\n",
      "                                  Google_ID   Latitude  Longitude  \\\n",
      "0  b9eb17dab1edbc2b1a046a224789b1330e44554c  30.215372 -97.744803   \n",
      "1  bdefc39e9e72060c0c3f8552220f8ea2ca60d20b  30.271814 -97.786538   \n",
      "2  b75b51402eec73943491ad3847b6b1c46d7a0ad8  30.238337 -97.751720   \n",
      "3  aeca550acd577ada947d15388018945bbcd9b492  30.330697 -97.715309   \n",
      "4  ec2339d24cecd5986b306474bb427557f034a055  30.225787 -97.771176   \n",
      "\n",
      "                               Name  Price_Level  Rating    Zip  \\\n",
      "0                              Asia          2.0     3.8  78741   \n",
      "1                         Chinatown          2.0     4.1  78746   \n",
      "2                      New Mandarin          2.0     3.5  78704   \n",
      "3                      China Palace          2.0     3.9  78752   \n",
      "4  Bamboo Garden Chinese Restaurant          2.0     4.0  78704   \n",
      "\n",
      "  City_State_Cuisine  \n",
      "0  austin-tx-chinese  \n",
      "1  austin-tx-chinese  \n",
      "2  austin-tx-chinese  \n",
      "3  austin-tx-chinese  \n",
      "4  austin-tx-chinese  \n",
      "                                          Address  \\\n",
      "0       1246 E 14th St, Des Moines, IA 50316, USA   \n",
      "1     100 E Euclid Ave, Des Moines, IA 50313, USA   \n",
      "2  1201 E Army Post Rd, Des Moines, IA 50315, USA   \n",
      "3    3708 Merle Hay Rd, Des Moines, IA 50310, USA   \n",
      "4        555 Walnut St, Des Moines, IA 50309, USA   \n",
      "\n",
      "                                  Google_ID   Latitude  Longitude  \\\n",
      "0  366f22d0cb361b0d7835c86295cbec1145120757  41.601579 -93.600875   \n",
      "1  2e6fa1f648fe6f8feb4d05aaec504be5b13e4a8b  41.629135 -93.618697   \n",
      "2  315f83ea80339a1a24a270ee847dee37cad7c614  41.525851 -93.599878   \n",
      "3  f1135e0b46a875f61de7db7ac89df51e24d6017c  41.628739 -93.698210   \n",
      "4  bbd3cb61f9b015ec27f572ddf1125b2cfed20742  41.586485 -93.623894   \n",
      "\n",
      "                       Name  Price_Level  Rating    Zip     City_State_Cuisine  \n",
      "0            Cheng's Garden          0.0     2.8  50316  des moines-ia-chinese  \n",
      "1            W China Buffet          2.0     3.6  50313  des moines-ia-chinese  \n",
      "2  New China Buffet & Grill          0.0     3.8  50315  des moines-ia-chinese  \n",
      "3            Cheng's Garden          0.0     3.1  50310  des moines-ia-chinese  \n",
      "4        Panda Chinese Food          0.0     4.0  50309  des moines-ia-chinese  \n",
      "                                         Address  \\\n",
      "0           1501 S 1st St, Austin, TX 78704, USA   \n",
      "1           1207 S 1st St, Austin, TX 78704, USA   \n",
      "2        88 1/2 Rainey St, Austin, TX 78701, USA   \n",
      "3  200 San Jacinto Blvd A, Austin, TX 78701, USA   \n",
      "4      110 San Antonio St, Austin, TX 78701, USA   \n",
      "\n",
      "                                  Google_ID   Latitude  Longitude  \\\n",
      "0  e6f8fc91656eeded19fd8c052ea5b527a7737b30  30.249787 -97.754657   \n",
      "1  7ec20c2b0b06aefc84c4918baff9699273280dc2  30.251847 -97.753896   \n",
      "2  b6b67516fe35e735ba67bd8537b9dbab51b10cfd  30.259912 -97.738517   \n",
      "3  9a48a73ea45302d15fff6e039dabc100867517d7  30.263978 -97.741905   \n",
      "4  6a9c702ac129afd0c82fd0bc8a3eccd4b57f0e9a  30.265516 -97.749260   \n",
      "\n",
      "                              Name  Price_Level  Rating    Zip  \\\n",
      "0            Elizabeth Street Cafe          3.0     4.3  78704   \n",
      "1  Saperlipopette! (French Crepes)          0.0     5.0  78704   \n",
      "2                  L'estelle House          0.0     4.5  78701   \n",
      "3                    Le Café Crêpe          1.0     4.3  78701   \n",
      "4                     Le Politique          3.0     4.3  78701   \n",
      "\n",
      "  City_State_Cuisine  \n",
      "0   austin-tx-french  \n",
      "1   austin-tx-french  \n",
      "2   austin-tx-french  \n",
      "3   austin-tx-french  \n",
      "4   austin-tx-french  \n",
      "                                             Address  \\\n",
      "0  7701 Broadway St # 20, San Antonio, TX 78209, USA   \n",
      "1  14439 NW Military Hwy #100, San Antonio, TX 78...   \n",
      "2        1012 S Presa St, San Antonio, TX 78210, USA   \n",
      "3        209 Broadway St, San Antonio, TX 78205, USA   \n",
      "4         728 S Alamo St, San Antonio, TX 78205, USA   \n",
      "\n",
      "                                  Google_ID   Latitude  Longitude  \\\n",
      "0  e1324b2b4cc3acaa8984a51ed8414f7a2b676957  29.499926 -98.467411   \n",
      "1  24cb3190d188c483fafb3b67a23bda1931783579  29.574159 -98.544485   \n",
      "2  734896fd04fbcafba1cba492f057250cbc3db2a6  29.410316 -98.486797   \n",
      "3  80d7278a09e32d9aaeaa44ceb3526efad3eec827  29.427957 -98.487763   \n",
      "4  a8924a473d32023f6a2a2e6663e0c8011e9b8dc5  29.416345 -98.488539   \n",
      "\n",
      "                      Name  Price_Level  Rating    Zip     City_State_Cuisine  \n",
      "0   Frederick's Restaurant          3.0     4.4  78209  san antonio-tx-french  \n",
      "1       Frederick's Bistro          3.0     4.2  78231  san antonio-tx-french  \n",
      "2                     Bite          2.0     4.6  78210  san antonio-tx-french  \n",
      "3              Saveurs 209          3.0     4.3  78205  san antonio-tx-french  \n",
      "4  La Frite Belgian Bistro          2.0     4.2  78205  san antonio-tx-french  \n",
      "                                       Address  \\\n",
      "0    427 W Kingsbury St, Seguin, TX 78155, USA   \n",
      "1  594 N Hwy 123 Bypass, Seguin, TX 78155, USA   \n",
      "2  1500 E Court St #126, Seguin, TX 78155, USA   \n",
      "3   1007 S Guadalupe St, Seguin, TX 78155, USA   \n",
      "4       1425 E Court St, Seguin, TX 78155, USA   \n",
      "\n",
      "                                  Google_ID   Latitude  Longitude  \\\n",
      "0  9d6795b53e0f7a0d8c81a855298e16fb3e1d1eed  29.580501 -97.969421   \n",
      "1  bd0c6f5d743f68f38a27c96b9b4f2a9d78df6fbf  29.564327 -97.942335   \n",
      "2  dd2277d0168efc78c833cb75ae0285b0844e0b38  29.571681 -97.939714   \n",
      "3  58b8749cc2e7340e52f15ba0ce07d21b6270c517  29.558359 -97.969029   \n",
      "4  bb1a85839e1812b5f5b65071b6b44d6b61d086bb  29.568080 -97.944008   \n",
      "\n",
      "                   Name  Price_Level  Rating    Zip City_State_Cuisine  \n",
      "0   Rosie's Pizza To Go          0.0     4.1  78155    seguin-tx-pizza  \n",
      "1             Pizza Hut          1.0     3.3  78155    seguin-tx-pizza  \n",
      "2  Little Caesars Pizza          1.0     3.4  78155    seguin-tx-pizza  \n",
      "3        Domino's Pizza          1.0     3.4  78155    seguin-tx-pizza  \n",
      "4     Papa John's Pizza          0.0     3.5  78155    seguin-tx-pizza  \n",
      "                                          Address  \\\n",
      "0  202 S University Parks Dr, Waco, TX 76701, USA   \n",
      "1           416 Franklin Ave, Waco, TX 76701, USA   \n",
      "2             725 Austin Ave, Waco, TX 76708, USA   \n",
      "3               919 S 6th St, Waco, TX 76706, USA   \n",
      "4           1201 Speight Ave, Waco, TX 76706, USA   \n",
      "\n",
      "                                  Google_ID   Latitude  Longitude  \\\n",
      "0  02133798c566e191a64a79e43206d1f1d086e61d  31.559022 -97.126658   \n",
      "1  32898098f0e64e43f4ab895da3df25432b3438bc  31.556098 -97.130387   \n",
      "2  6947b32dd92e6eb2dda7d9dd2e67f93829ae8b04  31.554906 -97.134366   \n",
      "3  8ecf50f37c1091644c06f613a4f5f013f3c1e44c  31.548913 -97.124949   \n",
      "4  5e868ca75610adf2040560e1f7987ee333f1c2a1  31.539842 -97.125225   \n",
      "\n",
      "                  Name  Price_Level  Rating    Zip City_State_Cuisine  \n",
      "0         Artisan Oven          0.0     5.0  76701      waco-tx-pizza  \n",
      "1  Clay Pot Restaurant          2.0     4.0  76701      waco-tx-pizza  \n",
      "2          Portofino's          0.0     4.1  76708      waco-tx-pizza  \n",
      "3             Fazoli's          1.0     4.0  76706      waco-tx-pizza  \n",
      "4       Domino's Pizza          1.0     3.3  76706      waco-tx-pizza  \n",
      "Empty DataFrame\n",
      "Columns: [Address, Google_ID, Latitude, Longitude, Name, Price_Level, Rating, Zip, City_State_Cuisine]\n",
      "Index: []\n",
      "                                             Address  \\\n",
      "0  1931 E Ben White Blvd #300, Austin, TX 78741, USA   \n",
      "1          4140 Governors Row, Austin, TX 78744, USA   \n",
      "2      2320 Interregional Hwy, Austin, TX 78704, USA   \n",
      "3    4415 S IH 35 Frontage Rd, Austin, TX 78744, USA   \n",
      "4             628 E Oltorf St, Austin, TX 78704, USA   \n",
      "\n",
      "                                  Google_ID   Latitude  Longitude  \\\n",
      "0  b9eb17dab1edbc2b1a046a224789b1330e44554c  30.215372 -97.744803   \n",
      "1  9751df9330a4122d18d5b499bfbd0feb349c5107  30.214778 -97.750443   \n",
      "2  0773617ca47bf7cd3b4417a29a84ac73b2f589b6  30.233226 -97.742554   \n",
      "3  11f5619d001395ccabd5c53f46b258e87a401b76  30.210915 -97.753298   \n",
      "4  d92f221f754d58eefb290a7b525e59a266594a02  30.237086 -97.748824   \n",
      "\n",
      "                                        Name  Price_Level  Rating    Zip  \\\n",
      "0                                       Asia          2.0     3.8  78741   \n",
      "1                          Onion Creek Grill          0.0     4.2  78744   \n",
      "2                                    Denny's          1.0     3.6  78704   \n",
      "3  The Limestone Kitchen Restaurant & Lounge          0.0     3.2  78744   \n",
      "4                          Con Madre Kitchen          0.0     4.6  78704   \n",
      "\n",
      "     City_State_Cuisine  \n",
      "0  austin-tx-restaurant  \n",
      "1  austin-tx-restaurant  \n",
      "2  austin-tx-restaurant  \n",
      "3  austin-tx-restaurant  \n",
      "4  austin-tx-restaurant  \n"
     ]
    },
    {
     "name": "stdout",
     "output_type": "stream",
     "text": [
      "                                             Address  \\\n",
      "0           606 West Ave, San Antonio, TX 78201, USA   \n",
      "1      3319 Hillcrest Dr, San Antonio, TX 78201, USA   \n",
      "2  3909 Fredericksburg Rd, San Antonio, TX 78201,...   \n",
      "3       606 W Cypress St, San Antonio, TX 78212, USA   \n",
      "4  5115 Fredericksburg Rd, San Antonio, TX 78229,...   \n",
      "\n",
      "                                  Google_ID   Latitude  Longitude  \\\n",
      "0  ad221873d25b80db38eaf78db8314b1d96325fde  29.468196 -98.525746   \n",
      "1  0d7d67b76f7e772c7baadff88df8b95bf43d2465  29.492208 -98.554208   \n",
      "2  5d96f5fff51d230f372c42978eecdea3019d0b42  29.482538 -98.544810   \n",
      "3  859975d0886755c6dde56228b464ec5f56290ff1  29.440464 -98.500532   \n",
      "4  0b0d829fabca338094175301102b9e01b13670af  29.501592 -98.560025   \n",
      "\n",
      "                              Name  Price_Level  Rating    Zip  \\\n",
      "0        Jacala Mexican Restaurant          2.0     4.0  78201   \n",
      "1                 Jim's Restaurant          2.0     4.1  78201   \n",
      "2  South Garden Chinese Restaurant          2.0     4.3  78201   \n",
      "3                         The Cove          2.0     4.4  78212   \n",
      "4              Sangria on the Burg          1.0     4.5  78229   \n",
      "\n",
      "          City_State_Cuisine  \n",
      "0  san antonio-tx-restaurant  \n",
      "1  san antonio-tx-restaurant  \n",
      "2  san antonio-tx-restaurant  \n",
      "3  san antonio-tx-restaurant  \n",
      "4  san antonio-tx-restaurant  \n",
      "                                             Address  \\\n",
      "0  #340, 150 Dorset St, South Burlington, VT 0540...   \n",
      "1  792 Shelburne Rd, South Burlington, VT 05403, USA   \n",
      "2            88 Church St, Burlington, VT 05401, USA   \n",
      "3          197 College St, Burlington, VT 05401, USA   \n",
      "4            191 Pearl St, Burlington, VT 05401, USA   \n",
      "\n",
      "                                  Google_ID   Latitude  Longitude  \\\n",
      "0  927826f89ae529e02985f9403b4bb456fe6373e7  44.465107 -73.179969   \n",
      "1  dd13e712ec8b68f515115da34a9205e7e0d1c48d  44.444834 -73.208926   \n",
      "2  ed8cba1ffe413ae3ed9d69160eadcf7f1dbd1c37  44.477957 -73.212509   \n",
      "3  cd0f4856399ac1551001a9da08e65965bc6e0741  44.476984 -73.211899   \n",
      "4  604b55cf1460a49eb79846e00e41d332ca87321a  44.480205 -73.211412   \n",
      "\n",
      "                          Name  Price_Level  Rating   Zip   City_State_Cuisine  \n",
      "0     HANA Japanese Restaurant          0.0     4.4  5403  burlington-vt-sushi  \n",
      "1     Koto Japanese Restaurant          2.0     4.2  5403  burlington-vt-sushi  \n",
      "2           Asiana Noodle Shop          2.0     3.9  5401  burlington-vt-sushi  \n",
      "3  Bento Japanese Delicatessen          0.0     5.0  5401  burlington-vt-sushi  \n",
      "4                 Asiana House          1.0     4.3  5401  burlington-vt-sushi  \n",
      "                                      Address  \\\n",
      "0  3632 S Congress Ave, Austin, TX 78704, USA   \n",
      "1        121 Pickle Rd, Austin, TX 78704, USA   \n",
      "2      628 E Oltorf St, Austin, TX 78704, USA   \n",
      "3  4619 S Congress Ave, Austin, TX 78745, USA   \n",
      "4        2316 S 1st St, Austin, TX 78704, USA   \n",
      "\n",
      "                                  Google_ID   Latitude  Longitude  \\\n",
      "0  ab9bdcd4f5d35546b5544971d764f3fd947921c5  30.226596 -97.762263   \n",
      "1  603e6b0c9db981bd2480b4807ccb65628d163317  30.226935 -97.762510   \n",
      "2  d92f221f754d58eefb290a7b525e59a266594a02  30.237086 -97.748824   \n",
      "3  e127eafee8ceba580503fdb3bc43744b9e3f0836  30.215295 -97.767905   \n",
      "4  acfaa5926a3e8b20c7a5a2b70f39a6228bddb134  30.242420 -97.759599   \n",
      "\n",
      "                      Name  Price_Level  Rating    Zip City_State_Cuisine  \n",
      "0      Papalote Taco House          0.0     4.5  78704     austin-tx-taco  \n",
      "1  Pueblo Viejo Taco Truck          0.0     4.8  78704     austin-tx-taco  \n",
      "2        Con Madre Kitchen          0.0     4.6  78704     austin-tx-taco  \n",
      "3      San Juanita's Tacos          0.0     4.4  78745     austin-tx-taco  \n",
      "4             El Tacorrido          0.0     4.2  78704     austin-tx-taco  \n",
      "                                             Address  \\\n",
      "0  4607, 919 W Hildebrand Ave, San Antonio, TX 78...   \n",
      "1  4263 NW Loop 410 #100, San Antonio, TX 78229, USA   \n",
      "2     6307 San Pedro Ave, San Antonio, TX 78216, USA   \n",
      "3   145 E Hildebrand Ave, San Antonio, TX 78212, USA   \n",
      "4  203 S General McMullen Dr, San Antonio, TX 782...   \n",
      "\n",
      "                                  Google_ID   Latitude  Longitude  \\\n",
      "0  7b32fdb0b80aca606c86c19da42e7ec0e9c2c1d0  29.466663 -98.508632   \n",
      "1  e21d1b869b78e043ce915f0fa78f16d1fae09788  29.490229 -98.567906   \n",
      "2  6eeb4b16f3d8de5175f3708c249f9e78889df670  29.494629 -98.499531   \n",
      "3  b99fd09c569da004df1af5f5e42ebca42348bdf1  29.466652 -98.492263   \n",
      "4  67efb77558e4240019d4c0812f0992cecf5e8ef1  29.429011 -98.554637   \n",
      "\n",
      "                             Name  Price_Level  Rating    Zip  \\\n",
      "0           Rolando's Super Tacos          1.0     4.1  78201   \n",
      "1                       Wapo Taco          0.0     4.4  78229   \n",
      "2                      Taco House          0.0     4.4  78216   \n",
      "3                  Taco Taco Cafe          1.0     3.2  78212   \n",
      "4  Mexico Taco Mexican Restaurant          0.0     4.4  78237   \n",
      "\n",
      "    City_State_Cuisine  \n",
      "0  san antonio-tx-taco  \n",
      "1  san antonio-tx-taco  \n",
      "2  san antonio-tx-taco  \n",
      "3  san antonio-tx-taco  \n",
      "4  san antonio-tx-taco  \n"
     ]
    }
   ],
   "source": [
    "\n",
    "for file in file_list:\n",
    "    restaurants_df = pd.read_csv(file)\n",
    "    restaurants_df = restaurants_df.rename(columns={\"ID(Google)\":\"Google_ID\", \"Price_Level(Google)\":\"Price_Level\", \"Rating(Google)\":\"Rating\"})\n",
    "    restaurants_df.head()\n",
    "\n",
    "# Getting the city, state and cuisine from the file name so we can put it into a new column\n",
    "    word_list = file.split(\"_\")\n",
    "    cuisine = word_list[0]\n",
    "    city = word_list[4].lower()\n",
    "    end = word_list[5]\n",
    "    second_word_list = end.split(\".\")\n",
    "    state = second_word_list[0].lower()\n",
    "    new_column = city + \"-\" + state + \"-\" + cuisine\n",
    "    new_column\n",
    "    \n",
    "    restaurants_df[\"City_State_Cuisine\"] = new_column\n",
    "    print(restaurants_df.head())\n",
    "# Output Cleaned CSV\n",
    "    restaurants_df.to_csv(\"../cleaned_output/cleaned_\"+file)"
   ]
  },
  {
   "cell_type": "code",
   "execution_count": 5,
   "metadata": {
    "collapsed": true
   },
   "outputs": [],
   "source": [
    "os.chdir(\"../cleaned_output\")"
   ]
  },
  {
   "cell_type": "code",
   "execution_count": 6,
   "metadata": {
    "collapsed": true
   },
   "outputs": [],
   "source": [
    "engine = create_engine(\"sqlite:///yummydata.sqlite\")"
   ]
  },
  {
   "cell_type": "code",
   "execution_count": 7,
   "metadata": {
    "collapsed": true
   },
   "outputs": [],
   "source": [
    "Base = declarative_base()"
   ]
  },
  {
   "cell_type": "code",
   "execution_count": 8,
   "metadata": {
    "collapsed": true
   },
   "outputs": [],
   "source": [
    "# Create ORM Class for Zip Code Demographic Data\n",
    "class ZipDemo(Base):\n",
    "    \n",
    "    __tablename__ = 'zip_demographics'\n",
    "\n",
    "    Zip = Column(Integer, primary_key=True)\n",
    "    Population = Column(Integer)\n",
    "    Density = Column(Float)\n",
    "    AverageIncome = Column(Float)\n",
    "    City = Column(Text)\n",
    "    State = Column(Text)\n",
    "    ZipLatitude = Column(Float)\n",
    "    ZipLongitude = Column(Float)\n",
    "    City_State = Column(Text, ForeignKey(\"user_input.City_State\"))\n",
    "    \n",
    "#     def __repr__(self):\n",
    "#         return f\"id={self.id}, name={self.station}\""
   ]
  },
  {
   "cell_type": "code",
   "execution_count": 9,
   "metadata": {
    "collapsed": true
   },
   "outputs": [],
   "source": [
    "class RestaurantSearch(Base):\n",
    "    \n",
    "    __tablename__ = 'restaurant_search'\n",
    "\n",
    "    id = Column(Integer, primary_key=True)\n",
    "    Address = Column(Text)    \n",
    "#     Google_ID = Column(Text, primary_key=True)\n",
    "    Latitude = Column(Float)\n",
    "    Longitude = Column(Float)\n",
    "    Name = Column(Text)\n",
    "    Price_Level = Column(Integer)\n",
    "    Rating = Column(Float)\n",
    "    Zip = Column(Integer, ForeignKey(\"zip_demographics.Zip\"))\n",
    "    City_State_Cuisine = Column(Text)"
   ]
  },
  {
   "cell_type": "code",
   "execution_count": 10,
   "metadata": {
    "collapsed": true
   },
   "outputs": [],
   "source": [
    "class Input(Base):\n",
    "    \n",
    "    __tablename__ = 'user_input'\n",
    "\n",
    "    id = Column(Integer, primary_key=True)\n",
    "    City = Column(Text)\n",
    "    State = Column(Text)\n",
    "    Cuisine = Column(Text)\n",
    "    City_State = Column(Text)\n",
    "    City_State_Cuisine = Column(Text)"
   ]
  },
  {
   "cell_type": "code",
   "execution_count": null,
   "metadata": {
    "collapsed": true
   },
   "outputs": [],
   "source": []
  },
  {
   "cell_type": "code",
   "execution_count": 11,
   "metadata": {
    "collapsed": true
   },
   "outputs": [],
   "source": [
    "Base.metadata.create_all(engine)"
   ]
  },
  {
   "cell_type": "code",
   "execution_count": 12,
   "metadata": {
    "collapsed": true
   },
   "outputs": [],
   "source": [
    "# Create a Functin to Populate Tables\n",
    "def populate_table(engine, table, csvfile):\n",
    "    # connect to the database\n",
    "    conn = engine.connect()\n",
    "    \n",
    "    # Load the CSV file into a pandas dataframe \n",
    "    df_of_data_to_insert = pd.read_csv(csvfile)\n",
    "    \n",
    "    # Orient='records' creates a list of data to write\n",
    "    data = df_of_data_to_insert.to_dict(orient='records')\n",
    "\n",
    "    # Optional: Delete all rows in the table \n",
    "#     conn.execute(table.delete())\n",
    "\n",
    "    # Insert the dataframe into the database in one bulk insert\n",
    "    conn.execute(table.insert(), data)"
   ]
  },
  {
   "cell_type": "code",
   "execution_count": 13,
   "metadata": {},
   "outputs": [
    {
     "name": "stdout",
     "output_type": "stream",
     "text": [
      "['cleaned_chinese_drop_duplicates_in_Austin_TX.csv', 'cleaned_chinese_drop_duplicates_in_Des Moines_IA.csv', 'cleaned_french_drop_duplicates_in_Austin_TX.csv', 'cleaned_french_drop_duplicates_in_San Antonio_TX.csv', 'cleaned_pizza_drop_duplicates_in_Seguin_TX.csv', 'cleaned_pizza_drop_duplicates_in_Waco_TX.csv', 'cleaned_restaurant_drop_duplicates_in_Agawam_MA.csv', 'cleaned_restaurant_drop_duplicates_in_Austin_TX.csv', 'cleaned_restaurant_drop_duplicates_in_San Antonio_TX.csv', 'cleaned_sushi_drop_duplicates_in_Burlington_VT.csv', 'cleaned_taco_drop_duplicates_in_Austin_TX.csv', 'cleaned_taco_drop_duplicates_in_San Antonio_TX.csv']\n",
      "cleaned_chinese_drop_duplicates_in_Austin_TX.csv\n",
      "cleaned_chinese_drop_duplicates_in_Des Moines_IA.csv\n",
      "cleaned_french_drop_duplicates_in_Austin_TX.csv\n",
      "cleaned_french_drop_duplicates_in_San Antonio_TX.csv\n",
      "cleaned_pizza_drop_duplicates_in_Seguin_TX.csv\n",
      "cleaned_pizza_drop_duplicates_in_Waco_TX.csv\n",
      "cleaned_restaurant_drop_duplicates_in_Agawam_MA.csv\n",
      "cleaned_restaurant_drop_duplicates_in_Austin_TX.csv\n",
      "cleaned_restaurant_drop_duplicates_in_San Antonio_TX.csv\n",
      "cleaned_sushi_drop_duplicates_in_Burlington_VT.csv\n",
      "cleaned_taco_drop_duplicates_in_Austin_TX.csv\n",
      "cleaned_taco_drop_duplicates_in_San Antonio_TX.csv\n"
     ]
    }
   ],
   "source": [
    "# Populate Tables\n",
    "\n",
    "\n",
    "another_file_list = []\n",
    "# os.chdir(\"../cleaned_output\")\n",
    "for file in glob.glob(\"*.csv\"):\n",
    "    another_file_list.append(file)\n",
    "    \n",
    "print(another_file_list)\n",
    "\n",
    "for file in another_file_list:\n",
    "    print(file)\n",
    "    populate_table(engine, RestaurantSearch.__table__, file)"
   ]
  },
  {
   "cell_type": "code",
   "execution_count": 14,
   "metadata": {
    "collapsed": true
   },
   "outputs": [],
   "source": [
    "os.chdir(\"..\")\n",
    "populate_table(engine, ZipDemo.__table__, 'zip_demographicchineseATX.csv')"
   ]
  },
  {
   "cell_type": "code",
   "execution_count": null,
   "metadata": {
    "collapsed": true
   },
   "outputs": [],
   "source": []
  },
  {
   "cell_type": "code",
   "execution_count": null,
   "metadata": {
    "collapsed": true
   },
   "outputs": [],
   "source": []
  }
 ],
 "metadata": {
  "kernelspec": {
   "display_name": "Python [conda env:PythonData]",
   "language": "python",
   "name": "conda-env-PythonData-py"
  },
  "language_info": {
   "codemirror_mode": {
    "name": "ipython",
    "version": 3
   },
   "file_extension": ".py",
   "mimetype": "text/x-python",
   "name": "python",
   "nbconvert_exporter": "python",
   "pygments_lexer": "ipython3",
   "version": "3.6.3"
  }
 },
 "nbformat": 4,
 "nbformat_minor": 2
}
