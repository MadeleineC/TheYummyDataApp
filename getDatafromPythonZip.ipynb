{
 "cells": [
  {
   "cell_type": "code",
   "execution_count": 1,
   "metadata": {
    "collapsed": true
   },
   "outputs": [],
   "source": [
    "import pandas as pd\n",
    "from uszipcode import ZipcodeSearchEngine\n",
    "import glob, os"
   ]
  },
  {
   "cell_type": "code",
   "execution_count": 2,
   "metadata": {
    "collapsed": true
   },
   "outputs": [],
   "source": [
    "# Get a list of the output files from the API search\n",
    "file_list = []\n",
    "os.chdir(\"output_yummy\")\n",
    "for file in glob.glob(\"*.csv\"):\n",
    "    file_list.append(file)\n",
    "#     print(file_list)"
   ]
  },
  {
   "cell_type": "code",
   "execution_count": 3,
   "metadata": {
    "collapsed": true
   },
   "outputs": [],
   "source": [
    "def getCityAndState(file_list):\n",
    "    zip_code_list = []\n",
    "    for file in file_list:\n",
    "        filename = file.split(\"_\")\n",
    "        city = filename[4].lower()\n",
    "        end = filename[5].split(\".\")\n",
    "        state = end[0].lower()\n",
    "\n",
    "        search = ZipcodeSearchEngine()\n",
    "        new_zips = search.by_city_and_state(city, state, returns=44000) #Default return seems to be 5, so just put a huge number here so it returns all    \n",
    "        zip_code_list = zip_code_list + new_zips\n",
    "#     print(zip_code_list)\n",
    "    return zip_code_list"
   ]
  },
  {
   "cell_type": "code",
   "execution_count": 4,
   "metadata": {
    "collapsed": true
   },
   "outputs": [],
   "source": [
    "# Create function to get zip codes from a city/state and loop through zip code list to return data from us zip python package\n",
    "def searchZip(zip_code_list):\n",
    "    zipcodes=[]\n",
    "    cities = []\n",
    "    states = []\n",
    "    latitudes = []\n",
    "    longitudes = []\n",
    "    densities=[]\n",
    "    populations=[]\n",
    "    avg_incomes = []\n",
    "    \n",
    "    for zip in zip_code_list:\n",
    "        zipcodes.append(zip.Zipcode)\n",
    "        cities.append(zip.City.lower())\n",
    "        states.append(zip.State.lower())\n",
    "        latitudes.append(zip.Latitude)\n",
    "        longitudes.append(zip.Longitude)\n",
    "        densities.append(zip.Density)\n",
    "        populations.append(zip.Population)\n",
    "        avg_incomes.append(zip.Wealthy)\n",
    "        zip_dict = {\"Zip\": zipcodes, \\\n",
    "                \"City\": cities, \\\n",
    "                \"State\": states, \\\n",
    "                \"ZipLatitude\": latitudes, \\\n",
    "                \"ZipLongitude\": longitudes, \\\n",
    "                \"Density\": densities, \\\n",
    "                \"Population\": populations,\\\n",
    "                \"AverageIncome\": avg_incomes}\n",
    "    return zip_dict\n",
    " "
   ]
  },
  {
   "cell_type": "code",
   "execution_count": 5,
   "metadata": {
    "scrolled": false
   },
   "outputs": [],
   "source": [
    "zip_code_list = getCityAndState(file_list)\n",
    "zip_dict = searchZip(zip_code_list)"
   ]
  },
  {
   "cell_type": "code",
   "execution_count": 6,
   "metadata": {},
   "outputs": [
    {
     "data": {
      "text/html": [
       "<div>\n",
       "<style scoped>\n",
       "    .dataframe tbody tr th:only-of-type {\n",
       "        vertical-align: middle;\n",
       "    }\n",
       "\n",
       "    .dataframe tbody tr th {\n",
       "        vertical-align: top;\n",
       "    }\n",
       "\n",
       "    .dataframe thead th {\n",
       "        text-align: right;\n",
       "    }\n",
       "</style>\n",
       "<table border=\"1\" class=\"dataframe\">\n",
       "  <thead>\n",
       "    <tr style=\"text-align: right;\">\n",
       "      <th></th>\n",
       "      <th>AverageIncome</th>\n",
       "      <th>City</th>\n",
       "      <th>Density</th>\n",
       "      <th>Population</th>\n",
       "      <th>State</th>\n",
       "      <th>Zip</th>\n",
       "      <th>ZipLatitude</th>\n",
       "      <th>ZipLongitude</th>\n",
       "      <th>City_State</th>\n",
       "    </tr>\n",
       "  </thead>\n",
       "  <tbody>\n",
       "    <tr>\n",
       "      <th>0</th>\n",
       "      <td>35962.103055</td>\n",
       "      <td>austin</td>\n",
       "      <td>4196.932515</td>\n",
       "      <td>6841</td>\n",
       "      <td>tx</td>\n",
       "      <td>78701</td>\n",
       "      <td>30.272921</td>\n",
       "      <td>-97.744386</td>\n",
       "      <td>austin-tx</td>\n",
       "    </tr>\n",
       "    <tr>\n",
       "      <th>1</th>\n",
       "      <td>11402.660167</td>\n",
       "      <td>austin</td>\n",
       "      <td>4266.800000</td>\n",
       "      <td>21334</td>\n",
       "      <td>tx</td>\n",
       "      <td>78702</td>\n",
       "      <td>30.260353</td>\n",
       "      <td>-97.714515</td>\n",
       "      <td>austin-tx</td>\n",
       "    </tr>\n",
       "    <tr>\n",
       "      <th>2</th>\n",
       "      <td>36330.241392</td>\n",
       "      <td>austin</td>\n",
       "      <td>3528.673835</td>\n",
       "      <td>19690</td>\n",
       "      <td>tx</td>\n",
       "      <td>78703</td>\n",
       "      <td>30.291533</td>\n",
       "      <td>-97.768836</td>\n",
       "      <td>austin-tx</td>\n",
       "    </tr>\n",
       "    <tr>\n",
       "      <th>3</th>\n",
       "      <td>19962.531709</td>\n",
       "      <td>austin</td>\n",
       "      <td>4841.034483</td>\n",
       "      <td>42117</td>\n",
       "      <td>tx</td>\n",
       "      <td>78704</td>\n",
       "      <td>30.245673</td>\n",
       "      <td>-97.768836</td>\n",
       "      <td>austin-tx</td>\n",
       "    </tr>\n",
       "    <tr>\n",
       "      <th>4</th>\n",
       "      <td>4696.842821</td>\n",
       "      <td>austin</td>\n",
       "      <td>14245.454545</td>\n",
       "      <td>31340</td>\n",
       "      <td>tx</td>\n",
       "      <td>78705</td>\n",
       "      <td>30.296171</td>\n",
       "      <td>-97.738954</td>\n",
       "      <td>austin-tx</td>\n",
       "    </tr>\n",
       "  </tbody>\n",
       "</table>\n",
       "</div>"
      ],
      "text/plain": [
       "   AverageIncome    City       Density  Population State    Zip  ZipLatitude  \\\n",
       "0   35962.103055  austin   4196.932515        6841    tx  78701    30.272921   \n",
       "1   11402.660167  austin   4266.800000       21334    tx  78702    30.260353   \n",
       "2   36330.241392  austin   3528.673835       19690    tx  78703    30.291533   \n",
       "3   19962.531709  austin   4841.034483       42117    tx  78704    30.245673   \n",
       "4    4696.842821  austin  14245.454545       31340    tx  78705    30.296171   \n",
       "\n",
       "   ZipLongitude City_State  \n",
       "0    -97.744386  austin-tx  \n",
       "1    -97.714515  austin-tx  \n",
       "2    -97.768836  austin-tx  \n",
       "3    -97.768836  austin-tx  \n",
       "4    -97.738954  austin-tx  "
      ]
     },
     "execution_count": 6,
     "metadata": {},
     "output_type": "execute_result"
    }
   ],
   "source": [
    "zipDemo_df = pd.DataFrame(zip_dict)\n",
    "zipDemo_df[\"City_State\"] = zipDemo_df[\"City\"] + \"-\" + zipDemo_df[\"State\"]\n",
    "zipDemo_df.head()"
   ]
  },
  {
   "cell_type": "code",
   "execution_count": 14,
   "metadata": {},
   "outputs": [
    {
     "data": {
      "text/html": [
       "<div>\n",
       "<style scoped>\n",
       "    .dataframe tbody tr th:only-of-type {\n",
       "        vertical-align: middle;\n",
       "    }\n",
       "\n",
       "    .dataframe tbody tr th {\n",
       "        vertical-align: top;\n",
       "    }\n",
       "\n",
       "    .dataframe thead th {\n",
       "        text-align: right;\n",
       "    }\n",
       "</style>\n",
       "<table border=\"1\" class=\"dataframe\">\n",
       "  <thead>\n",
       "    <tr style=\"text-align: right;\">\n",
       "      <th></th>\n",
       "      <th>AverageIncome</th>\n",
       "      <th>City</th>\n",
       "      <th>Density</th>\n",
       "      <th>Population</th>\n",
       "      <th>State</th>\n",
       "      <th>Zip</th>\n",
       "      <th>ZipLatitude</th>\n",
       "      <th>ZipLongitude</th>\n",
       "      <th>City_State</th>\n",
       "    </tr>\n",
       "  </thead>\n",
       "  <tbody>\n",
       "    <tr>\n",
       "      <th>0</th>\n",
       "      <td>35962.103055</td>\n",
       "      <td>austin</td>\n",
       "      <td>4196.932515</td>\n",
       "      <td>6841</td>\n",
       "      <td>tx</td>\n",
       "      <td>78701</td>\n",
       "      <td>30.272921</td>\n",
       "      <td>-97.744386</td>\n",
       "      <td>austin-tx</td>\n",
       "    </tr>\n",
       "    <tr>\n",
       "      <th>1</th>\n",
       "      <td>11402.660167</td>\n",
       "      <td>austin</td>\n",
       "      <td>4266.800000</td>\n",
       "      <td>21334</td>\n",
       "      <td>tx</td>\n",
       "      <td>78702</td>\n",
       "      <td>30.260353</td>\n",
       "      <td>-97.714515</td>\n",
       "      <td>austin-tx</td>\n",
       "    </tr>\n",
       "    <tr>\n",
       "      <th>2</th>\n",
       "      <td>36330.241392</td>\n",
       "      <td>austin</td>\n",
       "      <td>3528.673835</td>\n",
       "      <td>19690</td>\n",
       "      <td>tx</td>\n",
       "      <td>78703</td>\n",
       "      <td>30.291533</td>\n",
       "      <td>-97.768836</td>\n",
       "      <td>austin-tx</td>\n",
       "    </tr>\n",
       "    <tr>\n",
       "      <th>3</th>\n",
       "      <td>19962.531709</td>\n",
       "      <td>austin</td>\n",
       "      <td>4841.034483</td>\n",
       "      <td>42117</td>\n",
       "      <td>tx</td>\n",
       "      <td>78704</td>\n",
       "      <td>30.245673</td>\n",
       "      <td>-97.768836</td>\n",
       "      <td>austin-tx</td>\n",
       "    </tr>\n",
       "    <tr>\n",
       "      <th>4</th>\n",
       "      <td>4696.842821</td>\n",
       "      <td>austin</td>\n",
       "      <td>14245.454545</td>\n",
       "      <td>31340</td>\n",
       "      <td>tx</td>\n",
       "      <td>78705</td>\n",
       "      <td>30.296171</td>\n",
       "      <td>-97.738954</td>\n",
       "      <td>austin-tx</td>\n",
       "    </tr>\n",
       "  </tbody>\n",
       "</table>\n",
       "</div>"
      ],
      "text/plain": [
       "   AverageIncome    City       Density  Population State    Zip  ZipLatitude  \\\n",
       "0   35962.103055  austin   4196.932515        6841    tx  78701    30.272921   \n",
       "1   11402.660167  austin   4266.800000       21334    tx  78702    30.260353   \n",
       "2   36330.241392  austin   3528.673835       19690    tx  78703    30.291533   \n",
       "3   19962.531709  austin   4841.034483       42117    tx  78704    30.245673   \n",
       "4    4696.842821  austin  14245.454545       31340    tx  78705    30.296171   \n",
       "\n",
       "   ZipLongitude City_State  \n",
       "0    -97.744386  austin-tx  \n",
       "1    -97.714515  austin-tx  \n",
       "2    -97.768836  austin-tx  \n",
       "3    -97.768836  austin-tx  \n",
       "4    -97.738954  austin-tx  "
      ]
     },
     "execution_count": 14,
     "metadata": {},
     "output_type": "execute_result"
    }
   ],
   "source": [
    "# Drop duplicate zip codes\n",
    "zipDemo_df = zipDemo_df.drop_duplicates(\"Zip\")\n",
    "zipDemo_df.head()"
   ]
  },
  {
   "cell_type": "code",
   "execution_count": 15,
   "metadata": {
    "collapsed": true
   },
   "outputs": [],
   "source": [
    "os.chdir(\"..\")\n",
    "zipDemo_df.to_csv(\"zip_demographic_data.csv\")"
   ]
  },
  {
   "cell_type": "code",
   "execution_count": null,
   "metadata": {
    "collapsed": true
   },
   "outputs": [],
   "source": []
  },
  {
   "cell_type": "code",
   "execution_count": null,
   "metadata": {
    "collapsed": true
   },
   "outputs": [],
   "source": []
  }
 ],
 "metadata": {
  "kernelspec": {
   "display_name": "Python [conda env:PythonData]",
   "language": "python",
   "name": "conda-env-PythonData-py"
  },
  "language_info": {
   "codemirror_mode": {
    "name": "ipython",
    "version": 3
   },
   "file_extension": ".py",
   "mimetype": "text/x-python",
   "name": "python",
   "nbconvert_exporter": "python",
   "pygments_lexer": "ipython3",
   "version": "3.6.3"
  }
 },
 "nbformat": 4,
 "nbformat_minor": 2
}
