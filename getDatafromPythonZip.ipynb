{
 "cells": [
  {
   "cell_type": "code",
   "execution_count": 1,
   "metadata": {
    "collapsed": true
   },
   "outputs": [],
   "source": [
    "import pandas as pd\n",
    "from uszipcode import ZipcodeSearchEngine"
   ]
  },
  {
   "cell_type": "code",
   "execution_count": null,
   "metadata": {
    "collapsed": true
   },
   "outputs": [],
   "source": [
    "cuisine_input = \"chinese\""
   ]
  },
  {
   "cell_type": "code",
   "execution_count": 2,
   "metadata": {},
   "outputs": [
    {
     "data": {
      "text/html": [
       "<div>\n",
       "<style scoped>\n",
       "    .dataframe tbody tr th:only-of-type {\n",
       "        vertical-align: middle;\n",
       "    }\n",
       "\n",
       "    .dataframe tbody tr th {\n",
       "        vertical-align: top;\n",
       "    }\n",
       "\n",
       "    .dataframe thead th {\n",
       "        text-align: right;\n",
       "    }\n",
       "</style>\n",
       "<table border=\"1\" class=\"dataframe\">\n",
       "  <thead>\n",
       "    <tr style=\"text-align: right;\">\n",
       "      <th></th>\n",
       "      <th>Address</th>\n",
       "      <th>ID(Google)</th>\n",
       "      <th>Latitude</th>\n",
       "      <th>Longitude</th>\n",
       "      <th>Name</th>\n",
       "      <th>Price_Level(Google)</th>\n",
       "      <th>Rating(Google)</th>\n",
       "      <th>Zip</th>\n",
       "    </tr>\n",
       "  </thead>\n",
       "  <tbody>\n",
       "    <tr>\n",
       "      <th>0</th>\n",
       "      <td>1931 E Ben White Blvd #300, Austin, TX 78741, USA</td>\n",
       "      <td>b9eb17dab1edbc2b1a046a224789b1330e44554c</td>\n",
       "      <td>30.215372</td>\n",
       "      <td>-97.744803</td>\n",
       "      <td>Asia</td>\n",
       "      <td>2.0</td>\n",
       "      <td>3.8</td>\n",
       "      <td>78741</td>\n",
       "    </tr>\n",
       "    <tr>\n",
       "      <th>1</th>\n",
       "      <td>2712 Bee Caves Rd, Austin, TX 78746, USA</td>\n",
       "      <td>bdefc39e9e72060c0c3f8552220f8ea2ca60d20b</td>\n",
       "      <td>30.271814</td>\n",
       "      <td>-97.786538</td>\n",
       "      <td>Chinatown</td>\n",
       "      <td>2.0</td>\n",
       "      <td>4.1</td>\n",
       "      <td>78746</td>\n",
       "    </tr>\n",
       "    <tr>\n",
       "      <th>2</th>\n",
       "      <td>212 E Oltorf St, Austin, TX 78704, USA</td>\n",
       "      <td>b75b51402eec73943491ad3847b6b1c46d7a0ad8</td>\n",
       "      <td>30.238337</td>\n",
       "      <td>-97.751720</td>\n",
       "      <td>New Mandarin</td>\n",
       "      <td>2.0</td>\n",
       "      <td>3.5</td>\n",
       "      <td>78704</td>\n",
       "    </tr>\n",
       "    <tr>\n",
       "      <th>3</th>\n",
       "      <td>3601, 6605 Airport Blvd, Austin, TX 78752, Uni...</td>\n",
       "      <td>aeca550acd577ada947d15388018945bbcd9b492</td>\n",
       "      <td>30.330697</td>\n",
       "      <td>-97.715309</td>\n",
       "      <td>China Palace</td>\n",
       "      <td>2.0</td>\n",
       "      <td>3.9</td>\n",
       "      <td>78752</td>\n",
       "    </tr>\n",
       "    <tr>\n",
       "      <th>4</th>\n",
       "      <td>625 W Ben White Blvd, Austin, TX 78704, USA</td>\n",
       "      <td>ec2339d24cecd5986b306474bb427557f034a055</td>\n",
       "      <td>30.225787</td>\n",
       "      <td>-97.771176</td>\n",
       "      <td>Bamboo Garden Chinese Restaurant</td>\n",
       "      <td>2.0</td>\n",
       "      <td>4.0</td>\n",
       "      <td>78704</td>\n",
       "    </tr>\n",
       "  </tbody>\n",
       "</table>\n",
       "</div>"
      ],
      "text/plain": [
       "                                             Address  \\\n",
       "0  1931 E Ben White Blvd #300, Austin, TX 78741, USA   \n",
       "1           2712 Bee Caves Rd, Austin, TX 78746, USA   \n",
       "2             212 E Oltorf St, Austin, TX 78704, USA   \n",
       "3  3601, 6605 Airport Blvd, Austin, TX 78752, Uni...   \n",
       "4        625 W Ben White Blvd, Austin, TX 78704, USA   \n",
       "\n",
       "                                 ID(Google)   Latitude  Longitude  \\\n",
       "0  b9eb17dab1edbc2b1a046a224789b1330e44554c  30.215372 -97.744803   \n",
       "1  bdefc39e9e72060c0c3f8552220f8ea2ca60d20b  30.271814 -97.786538   \n",
       "2  b75b51402eec73943491ad3847b6b1c46d7a0ad8  30.238337 -97.751720   \n",
       "3  aeca550acd577ada947d15388018945bbcd9b492  30.330697 -97.715309   \n",
       "4  ec2339d24cecd5986b306474bb427557f034a055  30.225787 -97.771176   \n",
       "\n",
       "                               Name  Price_Level(Google)  Rating(Google)  \\\n",
       "0                              Asia                  2.0             3.8   \n",
       "1                         Chinatown                  2.0             4.1   \n",
       "2                      New Mandarin                  2.0             3.5   \n",
       "3                      China Palace                  2.0             3.9   \n",
       "4  Bamboo Garden Chinese Restaurant                  2.0             4.0   \n",
       "\n",
       "     Zip  \n",
       "0  78741  \n",
       "1  78746  \n",
       "2  78704  \n",
       "3  78752  \n",
       "4  78704  "
      ]
     },
     "execution_count": 2,
     "metadata": {},
     "output_type": "execute_result"
    }
   ],
   "source": [
    "# import csv\n",
    "googleAPIdatafile = \"chineseATX.csv\"\n",
    "google_data = pd.read_csv(googleAPIdatafile)\n",
    "google_data.head()"
   ]
  },
  {
   "cell_type": "code",
   "execution_count": 3,
   "metadata": {},
   "outputs": [
    {
     "data": {
      "text/plain": [
       "array([78741, 78746, 78704, 78752, 78753, 78759, 78745, 78701, 78731,\n",
       "       78702, 78750, 78748, 78758, 78705, 78723, 78722, 78712, 78749,\n",
       "       78757, 78735, 78751, 78730, 78728, 78703, 78727, 78660, 78653,\n",
       "       78664, 78717, 78729, 78734, 78719, 78724, 78681, 78721, 78726,\n",
       "       78613, 78732, 78733, 78738, 78736, 78610, 78737, 78640, 78756])"
      ]
     },
     "execution_count": 3,
     "metadata": {},
     "output_type": "execute_result"
    }
   ],
   "source": [
    "# get unique zip codes\n",
    "zips = google_data.Zip.unique()\n",
    "zips"
   ]
  },
  {
   "cell_type": "code",
   "execution_count": 4,
   "metadata": {
    "collapsed": true
   },
   "outputs": [],
   "source": [
    "# create function to loop through zip code list and return data from us zip python package\n",
    "def searchZip(zips):\n",
    "    search = ZipcodeSearchEngine()\n",
    "#     print(search.by_zipcode(94070))\n",
    "    zipcodes=[]\n",
    "    cities = []\n",
    "    states = []\n",
    "    latitudes = []\n",
    "    longitudes = []\n",
    "    densities=[]\n",
    "    populations=[]\n",
    "    avg_incomes = []\n",
    "    for zip in zips:\n",
    "        zipcode = search.by_zipcode(zip)\n",
    "        zipcodes.append(zipcode.Zipcode)\n",
    "        cities.append(zipcode.City.lower())\n",
    "        states.append(zipcode.State.lower())\n",
    "        latitudes.append(zipcode.Latitude)\n",
    "        longitudes.append(zipcode.Longitude)\n",
    "        densities.append(zipcode.Density)\n",
    "        populations.append(zipcode.Population)\n",
    "        avg_incomes.append(zipcode.Wealthy)\n",
    "    zip_dict = {\"Zip\": zipcodes, \\\n",
    "            \"City\": cities, \\\n",
    "            \"State\": states, \\\n",
    "            \"ZipLatitude\": latitudes, \\\n",
    "            \"ZipLongitude\": longitudes, \\\n",
    "            \"Density\": densities, \\\n",
    "            \"Population\": populations,\\\n",
    "            \"AverageIncome\": avg_incomes}\n",
    "    return zip_dict"
   ]
  },
  {
   "cell_type": "code",
   "execution_count": 5,
   "metadata": {},
   "outputs": [
    {
     "data": {
      "text/plain": [
       "dict"
      ]
     },
     "execution_count": 5,
     "metadata": {},
     "output_type": "execute_result"
    }
   ],
   "source": [
    "zip_dict = searchZip(zips)\n",
    "type(zip_dict)"
   ]
  },
  {
   "cell_type": "code",
   "execution_count": 6,
   "metadata": {},
   "outputs": [
    {
     "data": {
      "text/html": [
       "<div>\n",
       "<style scoped>\n",
       "    .dataframe tbody tr th:only-of-type {\n",
       "        vertical-align: middle;\n",
       "    }\n",
       "\n",
       "    .dataframe tbody tr th {\n",
       "        vertical-align: top;\n",
       "    }\n",
       "\n",
       "    .dataframe thead th {\n",
       "        text-align: right;\n",
       "    }\n",
       "</style>\n",
       "<table border=\"1\" class=\"dataframe\">\n",
       "  <thead>\n",
       "    <tr style=\"text-align: right;\">\n",
       "      <th></th>\n",
       "      <th>Zip</th>\n",
       "      <th>Population</th>\n",
       "      <th>Density</th>\n",
       "      <th>AverageIncome</th>\n",
       "      <th>City</th>\n",
       "      <th>State</th>\n",
       "      <th>ZipLatitude</th>\n",
       "      <th>ZipLongitude</th>\n",
       "      <th>City_State</th>\n",
       "    </tr>\n",
       "  </thead>\n",
       "  <tbody>\n",
       "    <tr>\n",
       "      <th>0</th>\n",
       "      <td>78741</td>\n",
       "      <td>44935</td>\n",
       "      <td>5912.500000</td>\n",
       "      <td>8121.070858</td>\n",
       "      <td>austin</td>\n",
       "      <td>tx</td>\n",
       "      <td>30.225949</td>\n",
       "      <td>-97.714515</td>\n",
       "      <td>austin-tx</td>\n",
       "    </tr>\n",
       "    <tr>\n",
       "      <th>1</th>\n",
       "      <td>78746</td>\n",
       "      <td>26928</td>\n",
       "      <td>1197.332148</td>\n",
       "      <td>53746.465501</td>\n",
       "      <td>austin</td>\n",
       "      <td>tx</td>\n",
       "      <td>30.296221</td>\n",
       "      <td>-97.829938</td>\n",
       "      <td>austin-tx</td>\n",
       "    </tr>\n",
       "    <tr>\n",
       "      <th>2</th>\n",
       "      <td>78704</td>\n",
       "      <td>42117</td>\n",
       "      <td>4841.034483</td>\n",
       "      <td>19962.531709</td>\n",
       "      <td>austin</td>\n",
       "      <td>tx</td>\n",
       "      <td>30.245673</td>\n",
       "      <td>-97.768836</td>\n",
       "      <td>austin-tx</td>\n",
       "    </tr>\n",
       "    <tr>\n",
       "      <th>3</th>\n",
       "      <td>78752</td>\n",
       "      <td>18064</td>\n",
       "      <td>5408.383234</td>\n",
       "      <td>9863.015445</td>\n",
       "      <td>austin</td>\n",
       "      <td>tx</td>\n",
       "      <td>30.331728</td>\n",
       "      <td>-97.705158</td>\n",
       "      <td>austin-tx</td>\n",
       "    </tr>\n",
       "    <tr>\n",
       "      <th>4</th>\n",
       "      <td>78753</td>\n",
       "      <td>49301</td>\n",
       "      <td>4494.165907</td>\n",
       "      <td>11084.087787</td>\n",
       "      <td>austin</td>\n",
       "      <td>tx</td>\n",
       "      <td>30.388987</td>\n",
       "      <td>-97.671089</td>\n",
       "      <td>austin-tx</td>\n",
       "    </tr>\n",
       "  </tbody>\n",
       "</table>\n",
       "</div>"
      ],
      "text/plain": [
       "     Zip  Population      Density  AverageIncome    City State  ZipLatitude  \\\n",
       "0  78741       44935  5912.500000    8121.070858  austin    tx    30.225949   \n",
       "1  78746       26928  1197.332148   53746.465501  austin    tx    30.296221   \n",
       "2  78704       42117  4841.034483   19962.531709  austin    tx    30.245673   \n",
       "3  78752       18064  5408.383234    9863.015445  austin    tx    30.331728   \n",
       "4  78753       49301  4494.165907   11084.087787  austin    tx    30.388987   \n",
       "\n",
       "   ZipLongitude City_State  \n",
       "0    -97.714515  austin-tx  \n",
       "1    -97.829938  austin-tx  \n",
       "2    -97.768836  austin-tx  \n",
       "3    -97.705158  austin-tx  \n",
       "4    -97.671089  austin-tx  "
      ]
     },
     "execution_count": 6,
     "metadata": {},
     "output_type": "execute_result"
    }
   ],
   "source": [
    "# Create Dataframe with Zips Demographic Data\n",
    "zip_dict = searchZip(zips)\n",
    "zipDemo_df = pd.DataFrame(zip_dict)\n",
    "zipDemo_df = zipDemo_df[[\"Zip\", \"Population\", \"Density\", \"AverageIncome\", \"City\", \"State\", \"ZipLatitude\", \"ZipLongitude\"]]\n",
    "zipDemo_df[\"City_State\"] = zipDemo_df[\"City\"] + \"-\" + zipDemo_df[\"State\"]\n",
    "zipDemo_df.head()\n",
    "\n"
   ]
  },
  {
   "cell_type": "code",
   "execution_count": 7,
   "metadata": {
    "collapsed": true
   },
   "outputs": [],
   "source": [
    "zipDemo_df.to_csv(\"zip_demographic\" + googleAPIdatafile)"
   ]
  },
  {
   "cell_type": "code",
   "execution_count": null,
   "metadata": {
    "collapsed": true
   },
   "outputs": [],
   "source": []
  },
  {
   "cell_type": "code",
   "execution_count": null,
   "metadata": {
    "collapsed": true
   },
   "outputs": [],
   "source": []
  }
 ],
 "metadata": {
  "kernelspec": {
   "display_name": "Python [conda env:PythonData]",
   "language": "python",
   "name": "conda-env-PythonData-py"
  },
  "language_info": {
   "codemirror_mode": {
    "name": "ipython",
    "version": 3
   },
   "file_extension": ".py",
   "mimetype": "text/x-python",
   "name": "python",
   "nbconvert_exporter": "python",
   "pygments_lexer": "ipython3",
   "version": "3.6.3"
  }
 },
 "nbformat": 4,
 "nbformat_minor": 2
}
